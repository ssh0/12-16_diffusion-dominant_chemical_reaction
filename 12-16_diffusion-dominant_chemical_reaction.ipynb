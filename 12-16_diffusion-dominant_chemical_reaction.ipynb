{
 "metadata": {
  "name": "",
  "signature": "sha256:0d65736d0c342e2a4e8d11e01817af4ac87265b59e1a09dfc90e6138e2ebccff"
 },
 "nbformat": 3,
 "nbformat_minor": 0,
 "worksheets": [
  {
   "cells": [
    {
     "cell_type": "heading",
     "level": 1,
     "metadata": {},
     "source": [
      "\u8a08\u7b97\u6a5f\u5b9f\u7fd2 \u554f\u984c12.16 \u62e1\u6563\u304c\u652f\u914d\u3059\u308b1\u6b21\u5143\u5316\u5b66\u53cd\u5fdc\u7cfb\u306e\u30e2\u30f3\u30c6\u30ab\u30eb\u30ed\u30fb\u30b7\u30df\u30e5\u30ec\u30fc\u30b7\u30e7\u30f3"
     ]
    },
    {
     "cell_type": "heading",
     "level": 2,
     "metadata": {},
     "source": [
      "\u30b7\u30df\u30e5\u30ec\u30fc\u30b7\u30e7\u30f3\u306e\u76ee\u7684"
     ]
    },
    {
     "cell_type": "markdown",
     "metadata": {},
     "source": [
      "\u5358\u4e00\u306e\u7a2e\u985eA\u306e\u7c92\u5b50\u304b\u3089\u306a\u308b\u7cfb\u3092\u8003\u3048\u308b\u3001\u5168\u3066\u306e\u7c92\u5b50\u306f\u62e1\u6563\u3057\u30012\u500b\u306e\u7c92\u5b50\u304c\u885d\u7a81\u3059\u308b\"\u53cd\u5fdc\"\u304c\u8d77\u3053\u308a\u30011\u500b\u306e\u7c92\u5b50\u304c\u6d88\u3048\u308b\u304b2\u500b\u306e\u7c92\u5b50\u304c\u7d50\u5408\u3057\u3066\u3001\u3082\u306f\u3084\u53cd\u5fdc\u306b\u306f\u95a2\u308f\u3089\u306a\u3044\u4e0d\u6d3b\u6027\u306a\u7a2e\u985e\u306e\u7c92\u5b50\u306b\u306a\u308b\u3002\n",
      "\u5f8c\u8005\u306e\u5834\u5408\u306e\u5316\u5b66\u53cd\u5fdc\u306f\n",
      "\n",
      "$$A + A \\rightarrow 0\\ \\ \\ (\\text{\u4e0d\u6d3b\u6027})$$\n",
      "\u3068\u8868\u3059\u3053\u3068\u304c\u3067\u304d\u308b\u3002A\u7c92\u5b50\u306e\u5bc6\u5ea6\u306e\u7a7a\u9593\u7684\u3086\u3089\u304e\u3092\u7121\u8996\u3059\u308b\u3068\u3001\u305d\u306e\u6642\u9593\u5909\u5316\u306f\u7c21\u5358\u306a\u53cd\u5fdc\u901f\u5ea6\u65b9\u7a0b\u5f0f\n",
      "\n",
      "$$\\frac{dA(t)}{dt} = -kA^{2}(t)$$\n",
      "\u3067\u4e0e\u3048\u308b\u3053\u3068\u304c\u3067\u304d\u308b\u3002\u3053\u3053\u3067$A$\u306fA\u7c92\u5b50\u306e\u6642\u523b$t$\u306e\u5bc6\u5ea6\u3067\u3042\u308a\u3001$k$\u306f\u53cd\u5fdc\u901f\u5ea6\u5b9a\u6570\u3067\u3042\u308b\u3002\u7c21\u5358\u306e\u305f\u3081\u306b\u3001\u5168\u3066\u306e\u53cd\u5fdc\u7269\u8cea\u304c$t=0$\u306b\u52a0\u3048\u3089\u308c\u3001\u305d\u306e\u5f8c\u306b\u306f\u53cd\u5fdc\u7269\u8cea\u306f\u4f55\u3082\u52a0\u3048\u3089\u308c\u306a\u3044\u3068\u3059\u308b(\u9589\u3058\u305f\u7cfb)\u30021\u968e\u5fae\u5206\u65b9\u7a0b\u5f0f(\u4e0a\u5f0f)\u306e\u89e3\u306f\n",
      "\n",
      "$$A(t) = \\frac{1}{kt + 1/A(0)}$$\n",
      "\u3067\u3042\u308a\u3001\u9577\u6642\u9593\u306e\u6975\u9650\u3067\u306f\n",
      "        \n",
      "$$A(t) \\sim t^{-1}$$\n",
      "\u3068\u306a\u308b\u3002\n",
      "\n",
      "\u4e0a\u306b\u8ff0\u3079\u305f1\u7a2e\u985e\u306e\u7c92\u5b50\u304c\u6d88\u6ec5\u3059\u308b\u904e\u7a0b\u306b\u304a\u3051\u308b$A$\u306e\u6642\u9593\u4f9d\u5b58\u6027\u306f\u7c21\u5358\u3067\u3042\u308b\u304c\u3001\u7a7a\u9593\u3086\u3089\u304e\u304c\u7121\u8996\u3055\u308c\u3066\u3044\u308b\u3002\u3053\u3053\u3067\u306f\u3001\u3053\u306e\u904e\u7a0b\u306e\u6642\u9593\u767a\u5c55\u306e\u30b7\u30df\u30e5\u30ec\u30fc\u30b7\u30e7\u30f3\u3092\u884c\u3044\u3001\u4eee\u5b9a\u304c\u6b63\u3057\u3044\u304b\u8abf\u3079\u308b\u3053\u3068\u306b\u3059\u308b\u3002"
     ]
    },
    {
     "cell_type": "heading",
     "level": 2,
     "metadata": {},
     "source": [
      "\u4f5c\u6210\u3057\u305f\u30d7\u30ed\u30b0\u30e9\u30e0"
     ]
    },
    {
     "cell_type": "markdown",
     "metadata": {},
     "source": [
      "\u672c\u30b7\u30df\u30e5\u30ec\u30fc\u30b7\u30e7\u30f3\u3067\u4f5c\u6210\u3057\u305f\u30d7\u30ed\u30b0\u30e9\u30e0\u3092\u4ee5\u4e0b\u306b\u793a\u3059\u3002"
     ]
    },
    {
     "cell_type": "code",
     "collapsed": true,
     "input": [
      "#! /usr/bin/env python\n",
      "# -*- coding:utf-8 -*-\n",
      "#\n",
      "# written by Shotaro Fujimoto, June 2014.\n",
      "\n",
      "import numpy as np\n",
      "\n",
      "\n",
      "def main_rw_d1(L, N, pmax):\n",
      "\n",
      "    lattice = np.identity(L, dtype=int)\n",
      "    T = [2 ** p for p in range(1, pmax + 1)]\n",
      "    A = []\n",
      "    random = np.random.rand\n",
      "    np_sum = np.sum\n",
      "    np_roll = np.roll\n",
      "\n",
      "    for t in xrange(1, max(T) + 1):\n",
      "        # 1 step ==============================================================\n",
      "        for n in xrange(N):\n",
      "            if np_sum(lattice[n]):\n",
      "                if random() > 0.5:\n",
      "                    lattice[n] = np_roll(lattice[n], 1)\n",
      "                else:\n",
      "                    lattice[n] = np_roll(lattice[n], -1)\n",
      "\n",
      "        count = np_sum(lattice, axis=0)\n",
      "\n",
      "        for l in xrange(L):\n",
      "            if count[l] == 2:\n",
      "                for n in xrange(N):\n",
      "                    lattice[n][l] = 0\n",
      "        # =====================================================================\n",
      "        if t in T:\n",
      "            A.append(L / (1. * np_sum(lattice)) - 1)\n",
      "\n",
      "    return T, A\n",
      "\n",
      "\n",
      "def plot_graph(x_data, y_data, x_labels, y_labels,\n",
      "               xscale='linear', yscale='linear', aspect='auto'):\n",
      "    \"\"\" Plot the graph about y_data for each x_data.\n",
      "    \"\"\"\n",
      "    import matplotlib.pyplot as plt\n",
      "\n",
      "    d = len(y_data)\n",
      "    if not len(x_data) == len(y_data) == len(x_labels) == len(y_labels):\n",
      "        raise ValueError(\"Arguments must have the same dimension.\")\n",
      "    if d == 0:\n",
      "        raise ValueError(\"At least one data for plot.\")\n",
      "    if d > 9:\n",
      "        raise ValueError(\"\"\"So much data for plot in one figure.\n",
      "                            Please divide two or more data sets.\"\"\")\n",
      "\n",
      "    fig = plt.figure(figsize=(9, 8))\n",
      "    subplot_positioning = [\n",
      "        '11', '21', '22', '22', '32', '32', '33', '33', '33']\n",
      "    axes = []\n",
      "    for n in range(d):\n",
      "        lmn = int(subplot_positioning[d - 1] + str(n + 1))\n",
      "        axes.append(fig.add_subplot(lmn))\n",
      "\n",
      "    for i, ax in enumerate(axes):\n",
      "        ymin, ymax = min(y_data[i]), max(y_data[i])\n",
      "        ax.set_aspect(aspect)\n",
      "        ax.set_xscale(xscale)\n",
      "        ax.set_yscale(yscale)\n",
      "        ax.set_xlabel(x_labels[i], fontsize=16)\n",
      "        ax.set_ylabel(y_labels[i], fontsize=16)\n",
      "        ax.set_ymargin(0.05)\n",
      "        ax.plot(x_data[i], y_data[i], 'o-')\n",
      "\n",
      "    fig.subplots_adjust(wspace=0.2, hspace=0.5)\n",
      "    fig.tight_layout()\n",
      "    plt.show()\n",
      "\n",
      "\n",
      "def fitting(fit_func, parameter0, trial=10):\n",
      "    import scipy.optimize as optimize\n",
      "\n",
      "    a = np.zeros(trial)\n",
      "    for i in range(trial):\n",
      "        T, A = main_rw_d1(L, N, pmax)\n",
      "        x, y = np.array(T), np.array(A)\n",
      "        result = optimize.leastsq(fit_func, parameter0, args=(x, y))\n",
      "        a[i] = result[0][0]\n",
      "\n",
      "    print 'a =', np.average(a), 'sigma(a) =', np.std(a)"
     ],
     "language": "python",
     "metadata": {},
     "outputs": [],
     "prompt_number": 1
    },
    {
     "cell_type": "markdown",
     "metadata": {},
     "source": [
      "\u3053\u306e\u30d7\u30ed\u30b0\u30e9\u30e0\u306f3\u3064\u306e\u95a2\u6570\u304b\u3089\u306a\u3063\u3066\u3044\u308b\u3002\u95a2\u6570main\\_rw\\_d1\u306f\u30011\u6b21\u5143\u683c\u5b50\u4e0a\u3092\u8907\u6570\u306e\u7c92\u5b50\u304c\u30e9\u30f3\u30c0\u30e0\u30a6\u30a9\u30fc\u30af\u3057\u3001\u540c\u3058\u683c\u5b50\u70b9\u4e0a\u306b2\u500b\u306e\u7c92\u5b50\u304c\u6765\u305f\u3068\u304d\u305d\u306e\u7c92\u5b50\u3092\u53d6\u308a\u9664\u304f\u3088\u3046\u306a\u6319\u52d5\u3092\u5b9f\u73fe\u3059\u308b\u3002\u95a2\u6570plot\\_graph\u306f\u3001\u554f\u984c12\u221212\u3067\u3082\u7528\u3044\u305f\u30b0\u30e9\u30d5\u63cf\u753b\u306e\u305f\u3081\u306e\u95a2\u6570\u3067\u3042\u308b\u3002\u95a2\u6570fitting\u306f\u3001$1/A(t)-1$\u306e$t$\u306b\u95a2\u3059\u308b\u4e21\u5bfe\u6570\u30b0\u30e9\u30d5\u3092\u76f4\u7dda\u3067\u30d5\u30a3\u30c3\u30c6\u30a3\u30f3\u30b0\u3057\u305f\u3068\u304d\u306e\u305d\u306e\u50be\u304d\u3092\u6c42\u3081\u308b\u3082\u306e\u3067\u3042\u308b\u3002\u4f55\u56de\u304b\u8a66\u884c\u3092\u7e70\u308a\u8fd4\u3057\u3001\u305d\u306e\u5e73\u5747\u5024\u3068\u504f\u5dee\u3092\u8fd4\u3059\u3088\u3046\u306b\u3057\u3066\u3042\u308b\u3002"
     ]
    },
    {
     "cell_type": "markdown",
     "metadata": {},
     "source": [
      "\u95a2\u6570main\\_rw\\_d1\u306e\u52d5\u304d\u306b\u3064\u3044\u3066\u306e\u89e3\u8aac\u3092\u52a0\u3048\u308b\u3068\u3001\u307e\u305alattice\u306f\u884c\u65b9\u5411\u304c\u7c92\u5b50\u3092\u8868\u3057\u3001\u5217\u65b9\u5411\u306f\u5ea7\u6a19\u3092\u8868\u3057\u3066\u3044\u308b\u3002\u5358\u4f4d\u884c\u5217\u306b\u3088\u3063\u3066$A(t=0)=1$\u3092\u8868\u73fe\u3057\u3001\u6642\u9593\u767a\u5c55\u3054\u3068\u306b\u53f3\u5411\u304d\u304b\u5de6\u5411\u304d\u306b\u7b49\u78ba\u7387\u3067\u30b7\u30d5\u30c8\u3059\u308b\u3002\u305d\u306e\u5f8c\u3001\u5217\u65b9\u5411\u306b\u548c\u3092\u8a08\u7b97\u3057\u3001\u305d\u306e\u5024\u304c2\u3067\u3042\u308b\u3068\u304d\u306f\u305d\u306e\u5217\u306e\u8981\u7d20\u3092\u3059\u3079\u30660\u306b\u3057\u3066\u3044\u308b(2\u4ee5\u4e0a\u306e\u5024\u3068\u306a\u308b\u3053\u3068\u306f\u306a\u3044)\u3002\u3053\u306e\u64cd\u4f5c\u3092\u7e70\u308a\u8fd4\u3057\u3001\u6642\u523b$t(=2^{p}(p = 1,2,3,\\cdots, \\mathrm{pmax}))$\u306e\u3068\u304d\u306e$1/A(t)-1$\u306e\u5024\u3092A\u306b\u8ffd\u52a0\u3057\u3066\u3044\u308b\u3002\u3053\u3053\u3067$t$\u306f\u5bfe\u6570\u30d7\u30ed\u30c3\u30c8\u3057\u305f\u3068\u304d\u306e\u30c7\u30fc\u30bf\u304c\u7b49\u9593\u9694\u306b\u306a\u308b\u3088\u3046\u306b\u3001\u6307\u6570\u95a2\u6570\u7684\u306b\u3068\u3063\u305f\u3002"
     ]
    },
    {
     "cell_type": "heading",
     "level": 2,
     "metadata": {},
     "source": [
      "\u5b9f\u7fd2\u8ab2\u984c"
     ]
    },
    {
     "cell_type": "heading",
     "level": 3,
     "metadata": {},
     "source": [
      "a."
     ]
    },
    {
     "cell_type": "markdown",
     "metadata": {},
     "source": [
      "$N$\u500b\u306e\u7c92\u5b50\u304c\u3001\u9577\u3055$L$\u306e1\u6b21\u5143\u683c\u5b50\u4e0a\u3092\u5468\u671f\u7684\u5883\u754c\u6761\u4ef6\u306e\u4e0b\u3067\u30e9\u30f3\u30c0\u30e0\u30a6\u30a9\u30fc\u30af\u3092\u884c\u3046\u5834\u5408\u3092\u8003\u3048\u3001\u5168\u3066\u306e\u683c\u5b50\u70b9\u304c\u5360\u6709\u3055\u308c\u3066\u3044\u308b\u72b6\u614b$A(t=0)=1$\u304b\u3089\u30b7\u30df\u30e5\u30ec\u30fc\u30b7\u30e7\u30f3\u3092\u59cb\u3081\u3088\u3002\u91cf$1/A(t)-1$\u3092\u6642\u9593$t$\u306b\u5bfe\u3057\u3066\u4e21\u5bfe\u6570\u3067\u30d7\u30ed\u30c3\u30c8\u305b\u3088\u3002\u5bfe\u6570\u30d7\u30ed\u30c3\u30c8\u306e\u30c7\u30fc\u30bf\u304c\u7b49\u9593\u9694\u306b\u306a\u308b\u3088\u3046\u306b\u3001\u6642\u9593\u306e\u533a\u9593\u3092\u6307\u6570\u95a2\u6570\u7684\u306b\u3068\u308c\u3002\u9577\u6642\u9593\u306e\u6975\u9650\u3067\u306f\u3001\u5f97\u3089\u308c\u305f\u4e21\u5bfe\u6570\u30d7\u30ed\u30c3\u30c8\u306f\u76f4\u7dda\u7684\u304b\u3001\u76f4\u7dda\u306a\u3089\u3070\u305d\u306e\u50be\u304d\u3092\u6c42\u3081\u3088\u3002\u5e73\u5747\u5834\u8fd1\u4f3c\u306f1\u6b21\u5143\u3067\u6b63\u3057\u3044\u3068\u3044\u3048\u308b\u304b\u3002$L=100$\u7a0b\u5ea6\u306e\u5c0f\u3055\u3044\u683c\u5b50\u3068\u3001$t=10^{2}$\u7a0b\u5ea6\u306e\u6642\u9593\u3067\u5927\u96d1\u628a\u306a\u7d50\u679c\u3092\u5f97\u308b\u3053\u3068\u304c\u3067\u304d\u308b\u300210\u30d1\u30fc\u30bb\u30f3\u30c8\u4ee5\u5185\u306e\u7cbe\u5ea6\u3067\u7d50\u679c\u3092\u5f97\u308b\u305f\u3081\u306b\u306f\u3001$L=10^{4}$\u7a0b\u5ea6\u306e\u5927\u304d\u3055\u306e\u683c\u5b50\u3068$t=2^{13}$\u7a0b\u5ea6\u306e\u6642\u9593\u304c\u5fc5\u8981\u3067\u3042\u308b\u3002"
     ]
    },
    {
     "cell_type": "markdown",
     "metadata": {},
     "source": [
      "\u4e0a\u8a18\u306e\u30d7\u30ed\u30b0\u30e9\u30e0\u3092\u7528\u3044\u3066\u3001$N$\u500b\u306e\u7c92\u5b50\u304c1\u6b21\u5143\u5468\u671f\u5883\u754c\u6761\u4ef6\u306e\u3082\u3068\u3067\u30e9\u30f3\u30c0\u30e0\u30a6\u30a9\u30fc\u30af\u3092\u884c\u3044\u3001\u53cd\u5fdc\u306b\u3088\u3063\u3066\u4e0d\u6d3b\u6027\u5316\u3059\u308b\u554f\u984c\u3092\u30b7\u30df\u30e5\u30ec\u30fc\u30b7\u30e7\u30f3\u3057\u305f\u3002\u3053\u306e\u3068\u304d\u3001\u6761\u4ef6\u3068\u3057\u3066\u3001\u683c\u5b50\u306e\u5927\u304d\u3055$L=1000$\u3067\u3001\u6642\u523b$t=512(=2^{9})$\u307e\u3067\u306e\u8a08\u7b97\u3092\u884c\u3063\u305f\u3002$A(t)$\u3092\u6642\u523b$t$\u3067\u306e\u7c92\u5b50\u306e\u5bc6\u5ea6\u3068\u3057\u3066\u3001\u91cf$1/A(t)-1$\u3092\u6642\u9593$t$\u306b\u5bfe\u3057\u3066\u4e21\u5bfe\u6570\u30d7\u30ed\u30c3\u30c8\u3057\u3001\u3053\u308c\u3092\u56f3\u306b\u793a\u3057\u305f\u3002\u56f3\u304b\u3089\u5206\u304b\u308b\u3088\u3046\u306b\u3001\u3053\u306e\u4e21\u5bfe\u6570\u30d7\u30ed\u30c3\u30c8\u306f\u76f4\u7dda\u7684\u3067\u3042\u308a\u3001$A(t)$\u3068$t$\u306e\u9593\u306b\u30d9\u30ad\u4e57\u5247\u304c\u6210\u308a\u7acb\u3064\u3053\u3068\u304c\u5206\u304b\u308b\u3002\u5b9f\u969b\u306b\u30b0\u30e9\u30d5\u306b\u304a\u3051\u308b\u76f4\u7dda\u306e\u50be\u304d$a$\u3092\u7b97\u51fa\u3057\u3066\u307f\u308b\u3068\u300110\u56de\u306e\u8a66\u884c\u306e\u5e73\u5747\u5024\u3068\u3057\u3066$a = 0.512988987355$\u304c\u5f97\u3089\u308c\u305f\u3002\u3053\u306e\u3068\u304d\u306e\u5206\u6563$\\sigma$\u306f$\\sigma = 0.0521364760422$\u3067\u3042\u3063\u305f\u3002\u3057\u305f\u304c\u3063\u3066\u3001\u6642\u523b$t$\u3068\u305d\u306e\u6642\u523b\u3067\u306e\u7c92\u5b50\u306e\u5b58\u5728\u5bc6\u5ea6$A(t)$\u306e\u9593\u306b\u306f\u3001\u304a\u3088\u305d\u4ee5\u4e0b\u306e\u3088\u3046\u306a\u95a2\u4fc2\u304c\u6210\u308a\u7acb\u3064\u3068\u5206\u304b\u308b:\n",
      "\n",
      "$$A(t) \\sim t^{-\\frac{1}{2}}$$\n",
      "\u3053\u306e\u7d50\u679c\u306f\u3001\u7a7a\u9593\u3086\u3089\u304e\u3092\u8003\u616e\u305b\u305a\u89e3\u6790\u7684\u306b\u6c42\u3081\u305f\u3001\u9577\u6642\u9593\u5f8c\u306e$A(t)$\u3068$t$\u306e\u95a2\u4fc2\u3068\u7570\u306a\u3063\u3066\u3044\u308b\u3002\u3057\u305f\u304c\u3063\u3066\u3001\u306f\u3058\u3081\u306b\u8ff0\u3079\u305f\u3088\u3046\u306b\u5e73\u5747\u5834\u8fd1\u4f3c\u3092\u3059\u308b\u3053\u3068\u306f\u59a5\u5f53\u3067\u306a\u304f\u3001\u7c92\u5b50\u5bc6\u5ea6\u306e\u7a7a\u9593\u7684\u306a\u3086\u3089\u304e\u306e\u52b9\u679c\u306f\u7121\u8996\u3067\u304d\u306a\u3044\u3053\u3068\u304c\u5206\u304b\u3063\u305f\u3002"
     ]
    },
    {
     "cell_type": "code",
     "collapsed": false,
     "input": [
      "%matplotlib inline\n",
      "L = 1000\n",
      "N = L\n",
      "pmax = 9\n",
      "\n",
      "T, A = main_rw_d1(L, N, pmax)\n",
      "plot_graph([T], [A], [r'$t$'], [r'$1/A(t)-1$'],\n",
      "           xscale='log', yscale='log', aspect='equal')\n",
      "\n",
      "def fit_func(parameter0, t, y):\n",
      "    a = parameter0[0]\n",
      "    b = parameter0[1]\n",
      "    residual = y - b * (t ** a)\n",
      "    return residual\n",
      "parameter0 = [1, 0]  # a, b\n",
      "# fitting(fit_func, parameter0, trial=10)"
     ],
     "language": "python",
     "metadata": {},
     "outputs": [
      {
       "metadata": {},
       "output_type": "display_data",
       "png": "[encoded data removed]",
       "text": [
        "<matplotlib.figure.Figure at 0x7ff70241da10>"
       ]
      }
     ],
     "prompt_number": 3
    },
    {
     "cell_type": "heading",
     "level": 2,
     "metadata": {},
     "source": [
      "\u307e\u3068\u3081"
     ]
    },
    {
     "cell_type": "markdown",
     "metadata": {},
     "source": [
      "1\u6b21\u5143\u306e\u5316\u5b66\u53cd\u5fdc\u7cfb\u306e\u7c21\u5358\u306a\u4f8b\u306b\u3064\u3044\u3066\u8003\u3048\u3001\u7c92\u5b50\u306e\u5b58\u5728\u5bc6\u5ea6$A(t)$\u3068\u6642\u523b$t$\u306e\u9593\u306b\u30d9\u30ad\u4e57\u5247\u304c\u6210\u308a\u7acb\u3061\u3001\u305d\u306e\u6307\u6570\u306e\u5024\u304c\u5e73\u5747\u5834\u8fd1\u4f3c\u3088\u308a\u6c42\u3081\u3089\u308c\u305f\u5024\u3068\u7570\u306a\u308b\u3053\u3068\u3092\u793a\u3057\u305f\u3002"
     ]
    },
    {
     "cell_type": "heading",
     "level": 2,
     "metadata": {},
     "source": [
      "\u53c2\u8003\u6587\u732e"
     ]
    },
    {
     "cell_type": "markdown",
     "metadata": {},
     "source": [
      "- \u30cf\u30fc\u30d9\u30a4\u30fb\u30b4\u30fc\u30eb\u30c9,\u30b8\u30e3\u30f3\u30fb\u30c8\u30dc\u30c1\u30cb\u30af,\u77f3\u5ddd\u6b63\u52dd\u30fb\u5bae\u5cf6\u4f50\u4ecb\u8a33\u300e\u8a08\u7b97\u7269\u7406\u5b66\u5165\u9580\u300f,\u30d4\u30a2\u30bd\u30f3\u30fb\u30a8\u30c7\u30e5\u30b1\u30fc\u30b7\u30e7\u30f3, 2000."
     ]
    }
   ],
   "metadata": {}
  }
 ]
}